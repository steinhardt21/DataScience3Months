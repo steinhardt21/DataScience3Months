{
 "cells": [
  {
   "cell_type": "code",
   "execution_count": null,
   "metadata": {
    "collapsed": true
   },
   "outputs": [],
   "source": []
  },
  {
   "cell_type": "code",
   "execution_count": null,
   "metadata": {
    "collapsed": true
   },
   "outputs": [],
   "source": []
  },
  {
   "cell_type": "code",
   "execution_count": null,
   "metadata": {
    "collapsed": true
   },
   "outputs": [],
   "source": []
  },
  {
   "cell_type": "code",
   "execution_count": 1,
   "metadata": {},
   "outputs": [
    {
     "name": "stdout",
     "output_type": "stream",
     "text": [
      "['male']\n",
      "['male']\n",
      "['female']\n",
      "['male']\n"
     ]
    }
   ],
   "source": [
    "from sklearn import tree\n",
    "from sklearn.discriminant_analysis import QuadraticDiscriminantAnalysis\n",
    "from sklearn.discriminant_analysis import LinearDiscriminantAnalysis\n",
    "from sklearn.ensemble import RandomForestClassifier\n",
    "\n",
    "from sklearn.metrics import accuracy_score\n",
    "\n",
    "clf = tree.DecisionTreeClassifier()\n",
    "clf_QDA = QuadraticDiscriminantAnalysis()\n",
    "clf_LDA = LinearDiscriminantAnalysis()\n",
    "clf_RFC = RandomForestClassifier()\n",
    "\n",
    "# CHALLENGE - create 3 more classifiers...\n",
    "# 1 QuadraticDiscriminantAnalysis\n",
    "# 2 LinearDiscriminantAnalysis\n",
    "# 3 RandomForestClassifier\n",
    "\n",
    "# [height, weight, shoe_size]\n",
    "X = [[181, 80, 44], [177, 70, 43], [160, 60, 38], [154, 54, 37], [166, 65, 40],\n",
    "     [190, 90, 47], [175, 64, 39],\n",
    "     [177, 70, 40], [159, 55, 37], [171, 75, 42], [181, 85, 43]]\n",
    "\n",
    "Y = ['male', 'male', 'female', 'female', 'male', 'male', 'female', 'female',\n",
    "     'female', 'male', 'male']\n",
    "\n",
    "\n",
    "# CHALLENGE - ...and train them on our data\n",
    "# \tFit the model according to the given training data and parameters.\n",
    "clf = clf.fit(X, Y)\n",
    "clf_QDA = clf_QDA.fit(X, Y)\n",
    "clf_LDA = clf_LDA.fit(X, Y)\n",
    "clf_RFC = clf_RFC.fit(X, Y)\n",
    "\n",
    "#Perform classification on an array of test vectors X.\n",
    "prediction = clf.predict([[190, 70, 43]])\n",
    "predictionQDA = clf_QDA.predict([[190, 70, 43]])\n",
    "predictionLDA = clf_LDA.predict([[190, 70, 43]])\n",
    "predictionRFC = clf_RFC.predict([[190, 70, 43]])\n",
    "\n",
    "# CHALLENGE compare their reusults and print the best one!\n",
    "\n",
    "print(prediction)\n",
    "print(predictionQDA)\n",
    "print(predictionLDA)\n",
    "print(predictionRFC)\n"
   ]
  },
  {
   "cell_type": "code",
   "execution_count": null,
   "metadata": {
    "collapsed": true
   },
   "outputs": [],
   "source": []
  },
  {
   "cell_type": "code",
   "execution_count": null,
   "metadata": {
    "collapsed": true
   },
   "outputs": [],
   "source": []
  },
  {
   "cell_type": "code",
   "execution_count": null,
   "metadata": {
    "collapsed": true
   },
   "outputs": [],
   "source": []
  }
 ],
 "metadata": {
  "kernelspec": {
   "display_name": "Python 3",
   "language": "python",
   "name": "python3"
  },
  "language_info": {
   "codemirror_mode": {
    "name": "ipython",
    "version": 3
   },
   "file_extension": ".py",
   "mimetype": "text/x-python",
   "name": "python",
   "nbconvert_exporter": "python",
   "pygments_lexer": "ipython3",
   "version": "3.6.2"
  }
 },
 "nbformat": 4,
 "nbformat_minor": 2
}
